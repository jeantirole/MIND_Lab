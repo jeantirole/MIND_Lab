{
 "cells": [
  {
   "cell_type": "markdown",
   "metadata": {},
   "source": [
    "# Env Setting "
   ]
  },
  {
   "cell_type": "markdown",
   "metadata": {},
   "source": [
    "- transfer learning(DOTA Dataset) 및 fine-tunning(AIFactory) 환경설정  \n",
    "resnet50 pre-train 환경과 약간의 차이가 있습니다 참고 바랍니다. \n",
    "\n",
    "\n",
    "- 주요 라이브러리 버전 확인    \n",
    "python == 3.8   \n",
    "torch  == 1.10.1+cu111   \n",
    "\n"
   ]
  },
  {
   "cell_type": "code",
   "execution_count": 1,
   "metadata": {},
   "outputs": [
    {
     "name": "stdout",
     "output_type": "stream",
     "text": [
      "Looking in links: https://download.pytorch.org/whl/torch_stable.html\n",
      "Collecting torch==1.10.0+cu111\n",
      "  Downloading https://download.pytorch.org/whl/cu111/torch-1.10.0%2Bcu111-cp38-cp38-linux_x86_64.whl (2137.6 MB)\n",
      "\u001b[2K     \u001b[90m━━━━━━━━━━━━━━━━━━━━━━━━━━━━━━━━━━━━━━━━\u001b[0m \u001b[32m2.1/2.1 GB\u001b[0m \u001b[31m661.2 kB/s\u001b[0m eta \u001b[36m0:00:00\u001b[0m0:01\u001b[0mm00:01\u001b[0m\n",
      "\u001b[?25hCollecting torchvision==0.11.0+cu111\n",
      "  Downloading https://download.pytorch.org/whl/cu111/torchvision-0.11.0%2Bcu111-cp38-cp38-linux_x86_64.whl (21.9 MB)\n",
      "\u001b[2K     \u001b[90m━━━━━━━━━━━━━━━━━━━━━━━━━━━━━━━━━━━━━━━━\u001b[0m \u001b[32m21.9/21.9 MB\u001b[0m \u001b[31m27.6 MB/s\u001b[0m eta \u001b[36m0:00:00\u001b[0m00:01\u001b[0m00:01\u001b[0m\n",
      "\u001b[?25hCollecting torchaudio==0.10.0\n",
      "  Using cached https://download.pytorch.org/whl/rocm4.1/torchaudio-0.10.0%2Brocm4.1-cp38-cp38-linux_x86_64.whl (2.7 MB)\n",
      "Requirement already satisfied: typing-extensions in /mnt/hdd/eric/.conda/envs/8.tmp.copied/lib/python3.8/site-packages (from torch==1.10.0+cu111) (4.5.0)\n",
      "Requirement already satisfied: numpy in /mnt/hdd/eric/.conda/envs/8.tmp.copied/lib/python3.8/site-packages (from torchvision==0.11.0+cu111) (1.24.3)\n",
      "Requirement already satisfied: pillow!=8.3.0,>=5.3.0 in /mnt/hdd/eric/.conda/envs/8.tmp.copied/lib/python3.8/site-packages (from torchvision==0.11.0+cu111) (9.5.0)\n",
      "Installing collected packages: torch, torchvision, torchaudio\n",
      "  Attempting uninstall: torch\n",
      "    Found existing installation: torch 1.13.1+cu117\n",
      "    Uninstalling torch-1.13.1+cu117:\n",
      "      Successfully uninstalled torch-1.13.1+cu117\n",
      "  Attempting uninstall: torchvision\n",
      "    Found existing installation: torchvision 0.14.1+cu117\n",
      "    Uninstalling torchvision-0.14.1+cu117:\n",
      "      Successfully uninstalled torchvision-0.14.1+cu117\n",
      "  Attempting uninstall: torchaudio\n",
      "    Found existing installation: torchaudio 0.13.1+cu117\n",
      "    Uninstalling torchaudio-0.13.1+cu117:\n",
      "      Successfully uninstalled torchaudio-0.13.1+cu117\n",
      "\u001b[31mERROR: pip's dependency resolver does not currently take into account all the packages that are installed. This behaviour is the source of the following dependency conflicts.\n",
      "lightning 2.2.0.post0 requires torch<4.0,>=1.13.0, but you have torch 1.10.0+cu111 which is incompatible.\u001b[0m\u001b[31m\n",
      "\u001b[0mSuccessfully installed torch-1.10.0+cu111 torchaudio-0.10.0+rocm4.1 torchvision-0.11.0+cu111\n"
     ]
    }
   ],
   "source": [
    "# # 아래와 같이 conda 가상환경을 통해 환경구축을 추천 (파이썬 3.8) \n",
    "# !conda create -n tmp_conv python=3.8 \n",
    "# !conda activate tmp_conv\n",
    "\n",
    "# pytorch 설치 (버전확인)\n",
    "!pip install torch==1.10.0+cu111 torchvision==0.11.0+cu111 torchaudio==0.10.0 -f https://download.pytorch.org/whl/torch_stable.html"
   ]
  },
  {
   "cell_type": "code",
   "execution_count": 2,
   "metadata": {},
   "outputs": [
    {
     "name": "stdout",
     "output_type": "stream",
     "text": [
      "Requirement already satisfied: openmim in /mnt/hdd/eric/.conda/envs/8.tmp.copied/lib/python3.8/site-packages (0.3.9)\n",
      "Requirement already satisfied: Click in /mnt/hdd/eric/.conda/envs/8.tmp.copied/lib/python3.8/site-packages (from openmim) (8.1.6)\n",
      "Requirement already satisfied: colorama in /mnt/hdd/eric/.conda/envs/8.tmp.copied/lib/python3.8/site-packages (from openmim) (0.4.6)\n",
      "Requirement already satisfied: model-index in /mnt/hdd/eric/.conda/envs/8.tmp.copied/lib/python3.8/site-packages (from openmim) (0.1.11)\n",
      "Requirement already satisfied: opendatalab in /mnt/hdd/eric/.conda/envs/8.tmp.copied/lib/python3.8/site-packages (from openmim) (0.0.9)\n",
      "Requirement already satisfied: pandas in /mnt/hdd/eric/.conda/envs/8.tmp.copied/lib/python3.8/site-packages (from openmim) (1.5.3)\n",
      "Requirement already satisfied: pip>=19.3 in /mnt/hdd/eric/.conda/envs/8.tmp.copied/lib/python3.8/site-packages (from openmim) (23.2.1)\n",
      "Requirement already satisfied: requests in /mnt/hdd/eric/.conda/envs/8.tmp.copied/lib/python3.8/site-packages (from openmim) (2.32.2)\n",
      "Requirement already satisfied: rich in /mnt/hdd/eric/.conda/envs/8.tmp.copied/lib/python3.8/site-packages (from openmim) (13.7.1)\n",
      "Requirement already satisfied: tabulate in /mnt/hdd/eric/.conda/envs/8.tmp.copied/lib/python3.8/site-packages (from openmim) (0.9.0)\n",
      "Requirement already satisfied: pyyaml in /mnt/hdd/eric/.conda/envs/8.tmp.copied/lib/python3.8/site-packages (from model-index->openmim) (6.0.1)\n",
      "Requirement already satisfied: markdown in /mnt/hdd/eric/.conda/envs/8.tmp.copied/lib/python3.8/site-packages (from model-index->openmim) (3.4.4)\n",
      "Requirement already satisfied: ordered-set in /mnt/hdd/eric/.conda/envs/8.tmp.copied/lib/python3.8/site-packages (from model-index->openmim) (4.1.0)\n",
      "Requirement already satisfied: pycryptodome in /mnt/hdd/eric/.conda/envs/8.tmp.copied/lib/python3.8/site-packages (from opendatalab->openmim) (3.18.0)\n",
      "Requirement already satisfied: tqdm in /mnt/hdd/eric/.conda/envs/8.tmp.copied/lib/python3.8/site-packages (from opendatalab->openmim) (4.65.0)\n",
      "Requirement already satisfied: charset-normalizer<4,>=2 in /mnt/hdd/eric/.local/lib/python3.8/site-packages (from requests->openmim) (3.1.0)\n",
      "Requirement already satisfied: idna<4,>=2.5 in /mnt/hdd/eric/.conda/envs/8.tmp.copied/lib/python3.8/site-packages (from requests->openmim) (2.8)\n",
      "Requirement already satisfied: urllib3<3,>=1.21.1 in /mnt/hdd/eric/.conda/envs/8.tmp.copied/lib/python3.8/site-packages (from requests->openmim) (1.25.11)\n",
      "Requirement already satisfied: certifi>=2017.4.17 in /mnt/hdd/eric/.conda/envs/8.tmp.copied/lib/python3.8/site-packages (from requests->openmim) (2023.7.22)\n",
      "Requirement already satisfied: python-dateutil>=2.8.1 in /mnt/hdd/eric/.conda/envs/8.tmp.copied/lib/python3.8/site-packages (from pandas->openmim) (2.8.2)\n",
      "Requirement already satisfied: pytz>=2020.1 in /mnt/hdd/eric/.conda/envs/8.tmp.copied/lib/python3.8/site-packages (from pandas->openmim) (2023.3)\n",
      "Requirement already satisfied: numpy>=1.20.3 in /mnt/hdd/eric/.conda/envs/8.tmp.copied/lib/python3.8/site-packages (from pandas->openmim) (1.24.3)\n",
      "Requirement already satisfied: markdown-it-py>=2.2.0 in /mnt/hdd/eric/.conda/envs/8.tmp.copied/lib/python3.8/site-packages (from rich->openmim) (3.0.0)\n",
      "Requirement already satisfied: pygments<3.0.0,>=2.13.0 in /mnt/hdd/eric/.local/lib/python3.8/site-packages (from rich->openmim) (2.15.1)\n",
      "Requirement already satisfied: typing-extensions<5.0,>=4.0.0 in /mnt/hdd/eric/.conda/envs/8.tmp.copied/lib/python3.8/site-packages (from rich->openmim) (4.5.0)\n",
      "Requirement already satisfied: mdurl~=0.1 in /mnt/hdd/eric/.conda/envs/8.tmp.copied/lib/python3.8/site-packages (from markdown-it-py>=2.2.0->rich->openmim) (0.1.2)\n",
      "Requirement already satisfied: six>=1.5 in /mnt/hdd/eric/.conda/envs/8.tmp.copied/lib/python3.8/site-packages (from python-dateutil>=2.8.1->pandas->openmim) (1.16.0)\n",
      "Requirement already satisfied: importlib-metadata>=4.4 in /mnt/hdd/eric/.conda/envs/8.tmp.copied/lib/python3.8/site-packages (from markdown->model-index->openmim) (6.8.0)\n",
      "Requirement already satisfied: zipp>=0.5 in /mnt/hdd/eric/.local/lib/python3.8/site-packages (from importlib-metadata>=4.4->markdown->model-index->openmim) (3.15.0)\n"
     ]
    }
   ],
   "source": [
    "# conda 8.tmp\n",
    "!pip install openmim"
   ]
  },
  {
   "cell_type": "code",
   "execution_count": 3,
   "metadata": {
    "scrolled": true
   },
   "outputs": [
    {
     "name": "stdout",
     "output_type": "stream",
     "text": [
      "/mnt/hdd/eric/.conda/envs/8.tmp.copied/lib/python3.8/site-packages/setuptools/command/install.py:34: SetuptoolsDeprecationWarning: setup.py install is deprecated. Use build and pip and other standards-based tools.\n",
      "  warnings.warn(\n",
      "Looking in links: https://download.openmmlab.com/mmcv/dist/cu111/torch1.10.0/index.html\n",
      "Collecting mmcv-full==1.7.1\n",
      "  Using cached https://download.openmmlab.com/mmcv/dist/cu111/torch1.10.0/mmcv_full-1.7.1-cp38-cp38-manylinux1_x86_64.whl (50.6 MB)\n",
      "Requirement already satisfied: addict in /mnt/hdd/eric/.conda/envs/8.tmp.copied/lib/python3.8/site-packages (from mmcv-full==1.7.1) (2.4.0)\n",
      "Requirement already satisfied: numpy in /mnt/hdd/eric/.conda/envs/8.tmp.copied/lib/python3.8/site-packages (from mmcv-full==1.7.1) (1.24.3)\n",
      "Requirement already satisfied: packaging in /mnt/hdd/eric/.local/lib/python3.8/site-packages (from mmcv-full==1.7.1) (23.1)\n",
      "Requirement already satisfied: Pillow in /mnt/hdd/eric/.conda/envs/8.tmp.copied/lib/python3.8/site-packages (from mmcv-full==1.7.1) (9.5.0)\n",
      "Requirement already satisfied: pyyaml in /mnt/hdd/eric/.conda/envs/8.tmp.copied/lib/python3.8/site-packages (from mmcv-full==1.7.1) (6.0.1)\n",
      "Requirement already satisfied: yapf in /mnt/hdd/eric/.conda/envs/8.tmp.copied/lib/python3.8/site-packages (from mmcv-full==1.7.1) (0.40.1)\n",
      "Requirement already satisfied: opencv-python>=3 in /mnt/hdd/eric/.conda/envs/8.tmp.copied/lib/python3.8/site-packages (from mmcv-full==1.7.1) (4.8.0.74)\n",
      "Requirement already satisfied: importlib-metadata>=6.6.0 in /mnt/hdd/eric/.conda/envs/8.tmp.copied/lib/python3.8/site-packages (from yapf->mmcv-full==1.7.1) (6.8.0)\n",
      "Requirement already satisfied: platformdirs>=3.5.1 in /mnt/hdd/eric/.conda/envs/8.tmp.copied/lib/python3.8/site-packages (from yapf->mmcv-full==1.7.1) (3.9.1)\n",
      "Requirement already satisfied: tomli>=2.0.1 in /mnt/hdd/eric/.conda/envs/8.tmp.copied/lib/python3.8/site-packages (from yapf->mmcv-full==1.7.1) (2.0.1)\n",
      "Requirement already satisfied: zipp>=0.5 in /mnt/hdd/eric/.local/lib/python3.8/site-packages (from importlib-metadata>=6.6.0->yapf->mmcv-full==1.7.1) (3.15.0)\n",
      "Installing collected packages: mmcv-full\n",
      "  Attempting uninstall: mmcv-full\n",
      "    Found existing installation: mmcv-full 1.6.2\n",
      "    Uninstalling mmcv-full-1.6.2:\n",
      "      Successfully uninstalled mmcv-full-1.6.2\n",
      "/mnt/hdd/eric/.conda/envs/8.tmp.copied/lib/python3.8/site-packages/setuptools/command/install.py:34: SetuptoolsDeprecationWarning: setup.py install is deprecated. Use build and pip and other standards-based tools.\n",
      "  warnings.warn(\n",
      "/mnt/hdd/eric/.conda/envs/8.tmp.copied/lib/python3.8/site-packages/setuptools/command/install.py:34: SetuptoolsDeprecationWarning: setup.py install is deprecated. Use build and pip and other standards-based tools.\n",
      "  warnings.warn(\n",
      "Successfully installed mmcv-full-1.7.1\n"
     ]
    }
   ],
   "source": [
    "# mmrotate 설치과정 \n",
    "# mmcv\n",
    "!mim install mmcv-full==1.7.1"
   ]
  },
  {
   "cell_type": "code",
   "execution_count": 4,
   "metadata": {
    "scrolled": true
   },
   "outputs": [
    {
     "name": "stdout",
     "output_type": "stream",
     "text": [
      "/mnt/hdd/eric/.conda/envs/8.tmp.copied/lib/python3.8/site-packages/setuptools/command/install.py:34: SetuptoolsDeprecationWarning: setup.py install is deprecated. Use build and pip and other standards-based tools.\n",
      "  warnings.warn(\n",
      "Looking in links: https://download.openmmlab.com/mmcv/dist/cu111/torch1.10.0/index.html\n",
      "Requirement already satisfied: mmdet==2.28.2 in /mnt/hdd/eric/.conda/envs/8.tmp.copied/lib/python3.8/site-packages (2.28.2)\n",
      "Requirement already satisfied: matplotlib in /mnt/hdd/eric/.conda/envs/8.tmp.copied/lib/python3.8/site-packages (from mmdet==2.28.2) (3.7.2)\n",
      "Requirement already satisfied: numpy in /mnt/hdd/eric/.conda/envs/8.tmp.copied/lib/python3.8/site-packages (from mmdet==2.28.2) (1.24.3)\n",
      "Requirement already satisfied: pycocotools in /mnt/hdd/eric/.conda/envs/8.tmp.copied/lib/python3.8/site-packages (from mmdet==2.28.2) (2.0.6)\n",
      "Requirement already satisfied: scipy in /mnt/hdd/eric/.conda/envs/8.tmp.copied/lib/python3.8/site-packages (from mmdet==2.28.2) (1.10.1)\n",
      "Requirement already satisfied: six in /mnt/hdd/eric/.conda/envs/8.tmp.copied/lib/python3.8/site-packages (from mmdet==2.28.2) (1.16.0)\n",
      "Requirement already satisfied: terminaltables in /mnt/hdd/eric/.conda/envs/8.tmp.copied/lib/python3.8/site-packages (from mmdet==2.28.2) (3.1.10)\n",
      "Requirement already satisfied: mmcv-full>=1.3.17 in /mnt/hdd/eric/.conda/envs/8.tmp.copied/lib/python3.8/site-packages (from mmdet==2.28.2) (1.7.1)\n",
      "Requirement already satisfied: addict in /mnt/hdd/eric/.conda/envs/8.tmp.copied/lib/python3.8/site-packages (from mmcv-full>=1.3.17->mmdet==2.28.2) (2.4.0)\n",
      "Requirement already satisfied: packaging in /mnt/hdd/eric/.local/lib/python3.8/site-packages (from mmcv-full>=1.3.17->mmdet==2.28.2) (23.1)\n",
      "Requirement already satisfied: Pillow in /mnt/hdd/eric/.conda/envs/8.tmp.copied/lib/python3.8/site-packages (from mmcv-full>=1.3.17->mmdet==2.28.2) (9.5.0)\n",
      "Requirement already satisfied: pyyaml in /mnt/hdd/eric/.conda/envs/8.tmp.copied/lib/python3.8/site-packages (from mmcv-full>=1.3.17->mmdet==2.28.2) (6.0.1)\n",
      "Requirement already satisfied: yapf in /mnt/hdd/eric/.conda/envs/8.tmp.copied/lib/python3.8/site-packages (from mmcv-full>=1.3.17->mmdet==2.28.2) (0.40.1)\n",
      "Requirement already satisfied: opencv-python>=3 in /mnt/hdd/eric/.conda/envs/8.tmp.copied/lib/python3.8/site-packages (from mmcv-full>=1.3.17->mmdet==2.28.2) (4.8.0.74)\n",
      "Requirement already satisfied: contourpy>=1.0.1 in /mnt/hdd/eric/.conda/envs/8.tmp.copied/lib/python3.8/site-packages (from matplotlib->mmdet==2.28.2) (1.1.0)\n",
      "Requirement already satisfied: cycler>=0.10 in /mnt/hdd/eric/.conda/envs/8.tmp.copied/lib/python3.8/site-packages (from matplotlib->mmdet==2.28.2) (0.11.0)\n",
      "Requirement already satisfied: fonttools>=4.22.0 in /mnt/hdd/eric/.conda/envs/8.tmp.copied/lib/python3.8/site-packages (from matplotlib->mmdet==2.28.2) (4.41.1)\n",
      "Requirement already satisfied: kiwisolver>=1.0.1 in /mnt/hdd/eric/.conda/envs/8.tmp.copied/lib/python3.8/site-packages (from matplotlib->mmdet==2.28.2) (1.4.4)\n",
      "Requirement already satisfied: pyparsing<3.1,>=2.3.1 in /mnt/hdd/eric/.conda/envs/8.tmp.copied/lib/python3.8/site-packages (from matplotlib->mmdet==2.28.2) (3.0.9)\n",
      "Requirement already satisfied: python-dateutil>=2.7 in /mnt/hdd/eric/.conda/envs/8.tmp.copied/lib/python3.8/site-packages (from matplotlib->mmdet==2.28.2) (2.8.2)\n",
      "Requirement already satisfied: importlib-resources>=3.2.0 in /mnt/hdd/eric/.local/lib/python3.8/site-packages (from matplotlib->mmdet==2.28.2) (5.12.0)\n",
      "Requirement already satisfied: zipp>=3.1.0 in /mnt/hdd/eric/.local/lib/python3.8/site-packages (from importlib-resources>=3.2.0->matplotlib->mmdet==2.28.2) (3.15.0)\n",
      "Requirement already satisfied: importlib-metadata>=6.6.0 in /mnt/hdd/eric/.conda/envs/8.tmp.copied/lib/python3.8/site-packages (from yapf->mmcv-full>=1.3.17->mmdet==2.28.2) (6.8.0)\n",
      "Requirement already satisfied: platformdirs>=3.5.1 in /mnt/hdd/eric/.conda/envs/8.tmp.copied/lib/python3.8/site-packages (from yapf->mmcv-full>=1.3.17->mmdet==2.28.2) (3.9.1)\n",
      "Requirement already satisfied: tomli>=2.0.1 in /mnt/hdd/eric/.conda/envs/8.tmp.copied/lib/python3.8/site-packages (from yapf->mmcv-full>=1.3.17->mmdet==2.28.2) (2.0.1)\n",
      "/mnt/hdd/eric/.conda/envs/8.tmp.copied/lib/python3.8/site-packages/setuptools/command/install.py:34: SetuptoolsDeprecationWarning: setup.py install is deprecated. Use build and pip and other standards-based tools.\n",
      "  warnings.warn(\n"
     ]
    }
   ],
   "source": [
    "# mmrotate 설치과정 \n",
    "# mmdet\n",
    "!mim install mmdet==2.28.2"
   ]
  },
  {
   "cell_type": "code",
   "execution_count": 5,
   "metadata": {},
   "outputs": [
    {
     "name": "stdout",
     "output_type": "stream",
     "text": [
      "Requirement already satisfied: cython in /mnt/hdd/eric/.conda/envs/8.tmp.copied/lib/python3.8/site-packages (from -r requirements/build.txt (line 2)) (3.0.0)\n",
      "Requirement already satisfied: numpy in /mnt/hdd/eric/.conda/envs/8.tmp.copied/lib/python3.8/site-packages (from -r requirements/build.txt (line 3)) (1.24.3)\n"
     ]
    }
   ],
   "source": [
    "# mmrotate 설치과정 \n",
    "# mmrotate\n",
    "!pip install -r requirements/build.txt"
   ]
  },
  {
   "cell_type": "code",
   "execution_count": 6,
   "metadata": {},
   "outputs": [
    {
     "name": "stdout",
     "output_type": "stream",
     "text": [
      "Using pip 23.2.1 from /mnt/hdd/eric/.conda/envs/8.tmp.copied/lib/python3.8/site-packages/pip (python 3.8)\n",
      "Obtaining file:///mnt/hdd/eric/.tmp_ipy/00.Reproduction_Test\n",
      "  Preparing metadata (setup.py) ... \u001b[?25l  Running command python setup.py egg_info\n",
      "  running egg_info\n",
      "  creating /tmp/pip-pip-egg-info-6er6hulh/mmrotate.egg-info\n",
      "  writing /tmp/pip-pip-egg-info-6er6hulh/mmrotate.egg-info/PKG-INFO\n",
      "  writing dependency_links to /tmp/pip-pip-egg-info-6er6hulh/mmrotate.egg-info/dependency_links.txt\n",
      "  writing requirements to /tmp/pip-pip-egg-info-6er6hulh/mmrotate.egg-info/requires.txt\n",
      "  writing top-level names to /tmp/pip-pip-egg-info-6er6hulh/mmrotate.egg-info/top_level.txt\n",
      "  writing manifest file '/tmp/pip-pip-egg-info-6er6hulh/mmrotate.egg-info/SOURCES.txt'\n",
      "  reading manifest file '/tmp/pip-pip-egg-info-6er6hulh/mmrotate.egg-info/SOURCES.txt'\n",
      "  reading manifest template 'MANIFEST.in'\n",
      "  adding license file 'LICENSE'\n",
      "  writing manifest file '/tmp/pip-pip-egg-info-6er6hulh/mmrotate.egg-info/SOURCES.txt'\n",
      "\u001b[?25hdone\n",
      "Requirement already satisfied: e2cnn in /mnt/hdd/eric/.conda/envs/8.tmp.copied/lib/python3.8/site-packages (from mmrotate==0.3.4) (0.2.3)\n",
      "Requirement already satisfied: matplotlib in /mnt/hdd/eric/.conda/envs/8.tmp.copied/lib/python3.8/site-packages (from mmrotate==0.3.4) (3.7.2)\n",
      "Requirement already satisfied: mmcv-full in /mnt/hdd/eric/.conda/envs/8.tmp.copied/lib/python3.8/site-packages (from mmrotate==0.3.4) (1.7.1)\n",
      "Requirement already satisfied: mmdet<3.0.0,>=2.25.1 in /mnt/hdd/eric/.conda/envs/8.tmp.copied/lib/python3.8/site-packages (from mmrotate==0.3.4) (2.28.2)\n",
      "Requirement already satisfied: numpy in /mnt/hdd/eric/.conda/envs/8.tmp.copied/lib/python3.8/site-packages (from mmrotate==0.3.4) (1.24.3)\n",
      "Requirement already satisfied: pycocotools in /mnt/hdd/eric/.conda/envs/8.tmp.copied/lib/python3.8/site-packages (from mmrotate==0.3.4) (2.0.6)\n",
      "Requirement already satisfied: six in /mnt/hdd/eric/.conda/envs/8.tmp.copied/lib/python3.8/site-packages (from mmrotate==0.3.4) (1.16.0)\n",
      "Requirement already satisfied: terminaltables in /mnt/hdd/eric/.conda/envs/8.tmp.copied/lib/python3.8/site-packages (from mmrotate==0.3.4) (3.1.10)\n",
      "Requirement already satisfied: torch in /mnt/hdd/eric/.conda/envs/8.tmp.copied/lib/python3.8/site-packages (from mmrotate==0.3.4) (1.10.0+cu111)\n",
      "Requirement already satisfied: scipy in /mnt/hdd/eric/.conda/envs/8.tmp.copied/lib/python3.8/site-packages (from mmdet<3.0.0,>=2.25.1->mmrotate==0.3.4) (1.10.1)\n",
      "Requirement already satisfied: sympy in /mnt/hdd/eric/.conda/envs/8.tmp.copied/lib/python3.8/site-packages (from e2cnn->mmrotate==0.3.4) (1.12)\n",
      "Requirement already satisfied: contourpy>=1.0.1 in /mnt/hdd/eric/.conda/envs/8.tmp.copied/lib/python3.8/site-packages (from matplotlib->mmrotate==0.3.4) (1.1.0)\n",
      "Requirement already satisfied: cycler>=0.10 in /mnt/hdd/eric/.conda/envs/8.tmp.copied/lib/python3.8/site-packages (from matplotlib->mmrotate==0.3.4) (0.11.0)\n",
      "Requirement already satisfied: fonttools>=4.22.0 in /mnt/hdd/eric/.conda/envs/8.tmp.copied/lib/python3.8/site-packages (from matplotlib->mmrotate==0.3.4) (4.41.1)\n",
      "Requirement already satisfied: kiwisolver>=1.0.1 in /mnt/hdd/eric/.conda/envs/8.tmp.copied/lib/python3.8/site-packages (from matplotlib->mmrotate==0.3.4) (1.4.4)\n",
      "Requirement already satisfied: packaging>=20.0 in /mnt/hdd/eric/.local/lib/python3.8/site-packages (from matplotlib->mmrotate==0.3.4) (23.1)\n",
      "Requirement already satisfied: pillow>=6.2.0 in /mnt/hdd/eric/.conda/envs/8.tmp.copied/lib/python3.8/site-packages (from matplotlib->mmrotate==0.3.4) (9.5.0)\n",
      "Requirement already satisfied: pyparsing<3.1,>=2.3.1 in /mnt/hdd/eric/.conda/envs/8.tmp.copied/lib/python3.8/site-packages (from matplotlib->mmrotate==0.3.4) (3.0.9)\n",
      "Requirement already satisfied: python-dateutil>=2.7 in /mnt/hdd/eric/.conda/envs/8.tmp.copied/lib/python3.8/site-packages (from matplotlib->mmrotate==0.3.4) (2.8.2)\n",
      "Requirement already satisfied: importlib-resources>=3.2.0 in /mnt/hdd/eric/.local/lib/python3.8/site-packages (from matplotlib->mmrotate==0.3.4) (5.12.0)\n",
      "Requirement already satisfied: addict in /mnt/hdd/eric/.conda/envs/8.tmp.copied/lib/python3.8/site-packages (from mmcv-full->mmrotate==0.3.4) (2.4.0)\n",
      "Requirement already satisfied: pyyaml in /mnt/hdd/eric/.conda/envs/8.tmp.copied/lib/python3.8/site-packages (from mmcv-full->mmrotate==0.3.4) (6.0.1)\n",
      "Requirement already satisfied: yapf in /mnt/hdd/eric/.conda/envs/8.tmp.copied/lib/python3.8/site-packages (from mmcv-full->mmrotate==0.3.4) (0.40.1)\n",
      "Requirement already satisfied: opencv-python>=3 in /mnt/hdd/eric/.conda/envs/8.tmp.copied/lib/python3.8/site-packages (from mmcv-full->mmrotate==0.3.4) (4.8.0.74)\n",
      "Requirement already satisfied: typing-extensions in /mnt/hdd/eric/.conda/envs/8.tmp.copied/lib/python3.8/site-packages (from torch->mmrotate==0.3.4) (4.5.0)\n",
      "Requirement already satisfied: zipp>=3.1.0 in /mnt/hdd/eric/.local/lib/python3.8/site-packages (from importlib-resources>=3.2.0->matplotlib->mmrotate==0.3.4) (3.15.0)\n",
      "Requirement already satisfied: mpmath>=0.19 in /mnt/hdd/eric/.conda/envs/8.tmp.copied/lib/python3.8/site-packages (from sympy->e2cnn->mmrotate==0.3.4) (1.3.0)\n",
      "Requirement already satisfied: importlib-metadata>=6.6.0 in /mnt/hdd/eric/.conda/envs/8.tmp.copied/lib/python3.8/site-packages (from yapf->mmcv-full->mmrotate==0.3.4) (6.8.0)\n",
      "Requirement already satisfied: platformdirs>=3.5.1 in /mnt/hdd/eric/.conda/envs/8.tmp.copied/lib/python3.8/site-packages (from yapf->mmcv-full->mmrotate==0.3.4) (3.9.1)\n",
      "Requirement already satisfied: tomli>=2.0.1 in /mnt/hdd/eric/.conda/envs/8.tmp.copied/lib/python3.8/site-packages (from yapf->mmcv-full->mmrotate==0.3.4) (2.0.1)\n",
      "Installing collected packages: mmrotate\n",
      "  Attempting uninstall: mmrotate\n",
      "    Found existing installation: mmrotate 0.3.4\n",
      "    Uninstalling mmrotate-0.3.4:\n",
      "      Removing file or directory /mnt/hdd/eric/.conda/envs/8.tmp.copied/lib/python3.8/site-packages/mmrotate.egg-link\n",
      "      Removing pth entries from /mnt/hdd/eric/.conda/envs/8.tmp.copied/lib/python3.8/site-packages/easy-install.pth:\n",
      "      Removing entry: /mnt/hdd/eric/.tmp_ipy/00.Reproduction_Test\n",
      "      Successfully uninstalled mmrotate-0.3.4\n",
      "  Running setup.py develop for mmrotate\n",
      "    Running command python setup.py develop\n",
      "    running develop\n",
      "    /mnt/hdd/eric/.conda/envs/8.tmp.copied/lib/python3.8/site-packages/setuptools/command/easy_install.py:156: EasyInstallDeprecationWarning: easy_install command is deprecated. Use build and pip and other standards-based tools.\n",
      "      warnings.warn(\n",
      "    /mnt/hdd/eric/.conda/envs/8.tmp.copied/lib/python3.8/site-packages/setuptools/command/install.py:34: SetuptoolsDeprecationWarning: setup.py install is deprecated. Use build and pip and other standards-based tools.\n",
      "      warnings.warn(\n",
      "    running egg_info\n",
      "    writing mmrotate.egg-info/PKG-INFO\n",
      "    writing dependency_links to mmrotate.egg-info/dependency_links.txt\n",
      "    writing requirements to mmrotate.egg-info/requires.txt\n",
      "    writing top-level names to mmrotate.egg-info/top_level.txt\n",
      "    reading manifest file 'mmrotate.egg-info/SOURCES.txt'\n",
      "    reading manifest template 'MANIFEST.in'\n",
      "    adding license file 'LICENSE'\n",
      "    writing manifest file 'mmrotate.egg-info/SOURCES.txt'\n",
      "    running build_ext\n",
      "    Creating /mnt/hdd/eric/.conda/envs/8.tmp.copied/lib/python3.8/site-packages/mmrotate.egg-link (link to .)\n",
      "    Adding mmrotate 0.3.4 to easy-install.pth file\n",
      "\n",
      "    Installed /mnt/hdd/eric/.tmp_ipy/00.Reproduction_Test\n",
      "Successfully installed mmrotate\n"
     ]
    }
   ],
   "source": [
    "# mmrotate 설치과정 \n",
    "# mmrotate\n",
    "!pip install -v -e ."
   ]
  },
  {
   "cell_type": "code",
   "execution_count": 7,
   "metadata": {
    "scrolled": true
   },
   "outputs": [
    {
     "name": "stdout",
     "output_type": "stream",
     "text": [
      "Requirement already satisfied: shapely in /mnt/hdd/eric/.conda/envs/8.tmp.copied/lib/python3.8/site-packages (2.0.1)\n",
      "Requirement already satisfied: numpy>=1.14 in /mnt/hdd/eric/.conda/envs/8.tmp.copied/lib/python3.8/site-packages (from shapely) (1.24.3)\n",
      "Requirement already satisfied: albumentations in /mnt/hdd/eric/.conda/envs/8.tmp.copied/lib/python3.8/site-packages (1.3.1)\n",
      "Requirement already satisfied: numpy>=1.11.1 in /mnt/hdd/eric/.conda/envs/8.tmp.copied/lib/python3.8/site-packages (from albumentations) (1.24.3)\n",
      "Requirement already satisfied: scipy>=1.1.0 in /mnt/hdd/eric/.conda/envs/8.tmp.copied/lib/python3.8/site-packages (from albumentations) (1.10.1)\n",
      "Requirement already satisfied: scikit-image>=0.16.1 in /mnt/hdd/eric/.conda/envs/8.tmp.copied/lib/python3.8/site-packages (from albumentations) (0.19.3)\n",
      "Requirement already satisfied: PyYAML in /mnt/hdd/eric/.conda/envs/8.tmp.copied/lib/python3.8/site-packages (from albumentations) (6.0.1)\n",
      "Requirement already satisfied: qudida>=0.0.4 in /mnt/hdd/eric/.conda/envs/8.tmp.copied/lib/python3.8/site-packages (from albumentations) (0.0.4)\n",
      "Requirement already satisfied: opencv-python-headless>=4.1.1 in /mnt/hdd/eric/.conda/envs/8.tmp.copied/lib/python3.8/site-packages (from albumentations) (4.8.0.74)\n",
      "Requirement already satisfied: scikit-learn>=0.19.1 in /mnt/hdd/eric/.conda/envs/8.tmp.copied/lib/python3.8/site-packages (from qudida>=0.0.4->albumentations) (1.2.2)\n",
      "Requirement already satisfied: typing-extensions in /mnt/hdd/eric/.conda/envs/8.tmp.copied/lib/python3.8/site-packages (from qudida>=0.0.4->albumentations) (4.5.0)\n",
      "Requirement already satisfied: networkx>=2.2 in /mnt/hdd/eric/.conda/envs/8.tmp.copied/lib/python3.8/site-packages (from scikit-image>=0.16.1->albumentations) (3.1)\n",
      "Requirement already satisfied: pillow!=7.1.0,!=7.1.1,!=8.3.0,>=6.1.0 in /mnt/hdd/eric/.conda/envs/8.tmp.copied/lib/python3.8/site-packages (from scikit-image>=0.16.1->albumentations) (9.5.0)\n",
      "Requirement already satisfied: imageio>=2.4.1 in /mnt/hdd/eric/.conda/envs/8.tmp.copied/lib/python3.8/site-packages (from scikit-image>=0.16.1->albumentations) (2.31.1)\n",
      "Requirement already satisfied: tifffile>=2019.7.26 in /mnt/hdd/eric/.conda/envs/8.tmp.copied/lib/python3.8/site-packages (from scikit-image>=0.16.1->albumentations) (2023.7.10)\n",
      "Requirement already satisfied: PyWavelets>=1.1.1 in /mnt/hdd/eric/.conda/envs/8.tmp.copied/lib/python3.8/site-packages (from scikit-image>=0.16.1->albumentations) (1.4.1)\n",
      "Requirement already satisfied: packaging>=20.0 in /mnt/hdd/eric/.local/lib/python3.8/site-packages (from scikit-image>=0.16.1->albumentations) (23.1)\n",
      "Requirement already satisfied: joblib>=1.1.1 in /mnt/hdd/eric/.conda/envs/8.tmp.copied/lib/python3.8/site-packages (from scikit-learn>=0.19.1->qudida>=0.0.4->albumentations) (1.3.1)\n",
      "Requirement already satisfied: threadpoolctl>=2.0.0 in /mnt/hdd/eric/.conda/envs/8.tmp.copied/lib/python3.8/site-packages (from scikit-learn>=0.19.1->qudida>=0.0.4->albumentations) (3.2.0)\n",
      "Requirement already satisfied: easydict in /mnt/hdd/eric/.conda/envs/8.tmp.copied/lib/python3.8/site-packages (1.10)\n"
     ]
    }
   ],
   "source": [
    "# 기타 라이브러리 \n",
    "!pip install shapely\n",
    "!pip install albumentations\n",
    "!pip install easydict"
   ]
  }
 ],
 "metadata": {
  "kernelspec": {
   "display_name": "8.tmp",
   "language": "python",
   "name": "python3"
  },
  "language_info": {
   "codemirror_mode": {
    "name": "ipython",
    "version": 3
   },
   "file_extension": ".py",
   "mimetype": "text/x-python",
   "name": "python",
   "nbconvert_exporter": "python",
   "pygments_lexer": "ipython3",
   "version": "3.8.17"
  }
 },
 "nbformat": 4,
 "nbformat_minor": 2
}
