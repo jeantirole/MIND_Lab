{
 "cells": [
  {
   "cell_type": "code",
   "execution_count": 110,
   "metadata": {},
   "outputs": [],
   "source": [
    "import numpy as np\n",
    "from PIL import Image\n",
    "from PIL import ImageDraw\n",
    "import netCDF4\n",
    "import os"
   ]
  },
  {
   "cell_type": "code",
   "execution_count": 111,
   "metadata": {},
   "outputs": [
    {
     "data": {
      "text/plain": [
       "['GK2_GOCI2_L1B_20230501_011530_LA_S007.nc',\n",
       " 'GK2_GOCI2_L1B_20230501_001530_LA_S007.nc',\n",
       " 'GK2_GOCI2_L1B_20230501_031530_LA_S007.nc',\n",
       " 'GK2_GOCI2_L1B_20230501_021530_LA_S007.nc']"
      ]
     },
     "execution_count": 111,
     "metadata": {},
     "output_type": "execute_result"
    }
   ],
   "source": [
    "input_folder = \"/mnt/hdd/eric/.tmp_ipy/00.Data/NC/20230501\"\n",
    "idx= 3\n",
    "\n",
    "[ i for i in os.listdir(input_folder) if i.__contains__(\".nc\")]"
   ]
  },
  {
   "cell_type": "code",
   "execution_count": 112,
   "metadata": {},
   "outputs": [],
   "source": [
    "fname = os.path.join( input_folder, [ i for i in os.listdir(input_folder) if i.__contains__(\".nc\")][idx] )\n",
    "end_fix = fname.split(\"/\")[-1].replace(\".nc\",\".png\")\n",
    "outpath = os.path.join( input_folder, end_fix) "
   ]
  },
  {
   "cell_type": "code",
   "execution_count": 113,
   "metadata": {},
   "outputs": [],
   "source": [
    "def read_refl_fr_LA(fname):\n",
    "    nc = netCDF4.Dataset(fname)\n",
    "    wavestr=['380','412','443','490','510','555','620','660','680','709','745','865']\n",
    "    for ib, wavenm in enumerate(wavestr):\n",
    "        bdstr='L_TOA_'+wavenm\n",
    "        _=nc.groups['geophysical_data'][bdstr]\n",
    "        #print(f0_band[ib])\n",
    "        _ref=_[:].data#/mu0[:]*math.pi/f0_band[ib]*0.1\n",
    "        _mask=_[:].mask\n",
    "        _ref[_mask]=0.\n",
    "        _ref=np.float32(_ref) # float64->32\n",
    "        if ib==0:\n",
    "            rhorc = [_ref]\n",
    "        else:\n",
    "            rhorc = np.concatenate((rhorc, [_ref]))\n",
    "    nc.close()\n",
    "    return rhorc"
   ]
  },
  {
   "cell_type": "code",
   "execution_count": 114,
   "metadata": {},
   "outputs": [],
   "source": [
    "bds = [7,5,2]\n",
    "rhorc = read_refl_fr_LA(fname)\n",
    "L_TOA = np.transpose(rhorc,(1,2,0))\n",
    "nbins = 5000"
   ]
  },
  {
   "cell_type": "code",
   "execution_count": 115,
   "metadata": {},
   "outputs": [],
   "source": [
    "for count, ib in enumerate(bds):\n",
    "    imgsub = L_TOA[:,:,ib]\n",
    "    mx=np.amax(imgsub); mn=np.amin(imgsub)\n",
    "    datarange=(mn+(mx-mn)*0.0, mx-(mx-mn)*0.0) #5% to 95%\n",
    "    hist, edges=np.histogram(imgsub,bins=nbins,range=datarange)\n",
    "    cdf = np.cumsum(hist)\n",
    "    cdf=np.insert(cdf,0,0)\n",
    "    minv=edges[0]; maxv=edges[-1]\n",
    "    img_ = ((imgsub-minv)/(maxv-minv)*nbins).astype('int')\n",
    "    img_[img_ <0]=0 ; img_[img_>nbins]=nbins\n",
    "    img_=cdf[img_]\n",
    "\n",
    "    formatted = (img_ * 255 / np.max(img_)).astype('uint8')\n",
    "    if count == 0: red = Image.fromarray(formatted)\n",
    "    if count == 1: green = Image.fromarray(formatted)\n",
    "    if count == 2: blue = Image.fromarray(formatted)\n",
    "    count=count+1\n",
    "    del imgsub\n",
    "\n",
    "out = Image.merge(\"RGB\", (red, green, blue))\n",
    "draw = ImageDraw.Draw(out)\n",
    "\n",
    "out.save(outpath)\n"
   ]
  }
 ],
 "metadata": {
  "kernelspec": {
   "display_name": "8.tmp",
   "language": "python",
   "name": "python3"
  },
  "language_info": {
   "codemirror_mode": {
    "name": "ipython",
    "version": 3
   },
   "file_extension": ".py",
   "mimetype": "text/x-python",
   "name": "python",
   "nbconvert_exporter": "python",
   "pygments_lexer": "ipython3",
   "version": "3.8.17"
  }
 },
 "nbformat": 4,
 "nbformat_minor": 2
}
