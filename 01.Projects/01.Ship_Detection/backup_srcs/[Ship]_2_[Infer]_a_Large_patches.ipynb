{
 "cells": [
  {
   "cell_type": "markdown",
   "metadata": {},
   "source": [
    "# Inference "
   ]
  },
  {
   "cell_type": "code",
   "execution_count": 1,
   "metadata": {},
   "outputs": [],
   "source": [
    "import os\n",
    "os.environ[\"OPENCV_IO_MAX_IMAGE_PIXELS\"] = pow(2,40).__str__()"
   ]
  },
  {
   "cell_type": "code",
   "execution_count": 2,
   "metadata": {},
   "outputs": [],
   "source": [
    "!set CV_IO_MAX_IMAGE_PIXELS=18500000000"
   ]
  },
  {
   "cell_type": "code",
   "execution_count": 3,
   "metadata": {},
   "outputs": [
    {
     "name": "stderr",
     "output_type": "stream",
     "text": [
      "/mnt/hdd/eric/.conda/envs/8.tmp/lib/python3.8/site-packages/mmcv/__init__.py:20: UserWarning: On January 1, 2023, MMCV will release v2.0.0, in which it will remove components related to the training process and add a data transformation module. In addition, it will rename the package names mmcv to mmcv-lite and mmcv-full to mmcv. See https://github.com/open-mmlab/mmcv/blob/master/docs/en/compatibility.md for more details.\n",
      "  warnings.warn(\n"
     ]
    },
    {
     "name": "stdout",
     "output_type": "stream",
     "text": [
      "<module 'mmrotate' from '/mnt/hdd/eric/.tmp_ipy/00.Reproduction_Test/mmrotate/__init__.py'>\n"
     ]
    },
    {
     "data": {
      "text/plain": [
       "True"
      ]
     },
     "execution_count": 3,
     "metadata": {},
     "output_type": "execute_result"
    }
   ],
   "source": [
    "import os \n",
    "from mmdet.apis import init_detector, show_result_pyplot\n",
    "from mmrotate.apis import inference_detector_by_patches\n",
    "import mmrotate\n",
    "import torch\n",
    "print(mmrotate)\n",
    "mmrotate.__version__=='0.3.4'"
   ]
  },
  {
   "cell_type": "code",
   "execution_count": 4,
   "metadata": {},
   "outputs": [],
   "source": [
    "choose_epoch = 9\n",
    "\n",
    "checkpoint_file = f\"/mnt/hdd/eric/.tmp_ipy/00.Checkpoint/ship_tmp/epoch_{choose_epoch}.pth\"\n",
    "config_file = '/mnt/hdd/eric/.tmp_ipy/00.Checkpoint/KARI_tmp/kari_fine_tunning.py'\n"
   ]
  },
  {
   "cell_type": "code",
   "execution_count": 5,
   "metadata": {},
   "outputs": [],
   "source": [
    "from mmcv import Config\n",
    "\n",
    "cfg = Config.fromfile(config_file)"
   ]
  },
  {
   "cell_type": "code",
   "execution_count": 6,
   "metadata": {},
   "outputs": [],
   "source": [
    "#--------------------------------------\n",
    "#----- classes\n",
    "cfg.model.roi_head.bbox_head[0].num_classes=1 \n",
    "cfg.model.roi_head.bbox_head[1].num_classes=1\n",
    "\n",
    "classes = ('ship',)\n",
    "cfg.data.train.classes=classes\n",
    "cfg.data.val.classes=classes\n",
    "cfg.data.test.classes=classes\n",
    "\n",
    "# batch \n",
    "cfg.data.samples_per_gpu = 1\n",
    "\n",
    "cfg.gpu_ids = [0]\n",
    "cfg.device='cuda'\n",
    "cfg.seed=22\n",
    "\n",
    "# random seed\n",
    "from mmdet.apis import set_random_seed\n",
    "set_random_seed(cfg.seed,deterministic=True)"
   ]
  },
  {
   "cell_type": "code",
   "execution_count": 7,
   "metadata": {},
   "outputs": [
    {
     "name": "stderr",
     "output_type": "stream",
     "text": [
      "/mnt/hdd/eric/.conda/envs/8.tmp/lib/python3.8/site-packages/mmdet/models/dense_heads/anchor_head.py:116: UserWarning: DeprecationWarning: `num_anchors` is deprecated, for consistency or also use `num_base_priors` instead\n",
      "  warnings.warn('DeprecationWarning: `num_anchors` is deprecated, '\n"
     ]
    },
    {
     "name": "stdout",
     "output_type": "stream",
     "text": [
      "load checkpoint from local path: /mnt/hdd/eric/.tmp_ipy/00.Checkpoint/ship_tmp/epoch_9.pth\n",
      "model to device #-----------------------------# :  cuda:0\n"
     ]
    }
   ],
   "source": [
    "model = init_detector(cfg, checkpoint_file, device='cuda:0')"
   ]
  },
  {
   "cell_type": "code",
   "execution_count": 8,
   "metadata": {},
   "outputs": [],
   "source": [
    "from glob import glob \n",
    "tgt = []\n",
    "for fold in os.listdir(\"/mnt/hdd/eric/.tmp_ipy/00.Data/AO/0-Pusan-2023-AO\"):\n",
    "    a_ = os.path.join( \"/mnt/hdd/eric/.tmp_ipy/00.Data/AO/0-Pusan-2023-AO\", fold)\n",
    "    b_ = a_+\"/*.png\"\n",
    "    files_ = glob(b_)\n",
    "    tgt.append(files_)"
   ]
  },
  {
   "cell_type": "code",
   "execution_count": 9,
   "metadata": {},
   "outputs": [
    {
     "data": {
      "text/plain": [
       "[['/mnt/hdd/eric/.tmp_ipy/00.Data/AO/0-Pusan-2023-AO/K3A_20230523045050_45040_00003611_L1G_PS/K3A_20230523045050_45040_00003611_L1G_PS_RGB.png'],\n",
       " ['/mnt/hdd/eric/.tmp_ipy/00.Data/AO/0-Pusan-2023-AO/K3_20230328042158_57944_09401261_L1G_PS/K3_20230328042158_57944_09401261_L1G_PS_RGB.png'],\n",
       " ['/mnt/hdd/eric/.tmp_ipy/00.Data/AO/0-Pusan-2023-AO/K3A_20230523045050_45040_00021531_L1G_PS/K3A_20230523045050_45040_00021531_L1G_PS_RGB.png'],\n",
       " ['/mnt/hdd/eric/.tmp_ipy/00.Data/AO/0-Pusan-2023-AO/K3_20231028043354_61071_09341259_L1G_PS/K3_20231028043354_61071_09341259_L1G_PS_RGB.png'],\n",
       " ['/mnt/hdd/eric/.tmp_ipy/00.Data/AO/0-Pusan-2023-AO/K3A_20231106050620_47570_00045344_L1G_PS/K3A_20231106050620_47570_00045344_L1G_PS_RGB.png'],\n",
       " ['/mnt/hdd/eric/.tmp_ipy/00.Data/AO/0-Pusan-2023-AO/C1_20230430014955_11691_00006119_L1G_PS/C1_20230430014955_11691_00006119_L1G_PS_RGB.png'],\n",
       " ['/mnt/hdd/eric/.tmp_ipy/00.Data/AO/0-Pusan-2023-AO/C1_20221227015155_09806_00006119_L1G/C1_20221227015155_09806_00006119_L1G_RGB.png'],\n",
       " ['/mnt/hdd/eric/.tmp_ipy/00.Data/AO/0-Pusan-2023-AO/C1_20230111015112_10034_00006119_L1G_PS/C1_20230111015112_10034_00006119_L1G_PS_RGB.png'],\n",
       " ['/mnt/hdd/eric/.tmp_ipy/00.Data/AO/0-Pusan-2023-AO/K3A_20231106050620_47570_00022579_L1G_PS/K3A_20231106050620_47570_00022579_L1G_PS_RGB.png'],\n",
       " ['/mnt/hdd/eric/.tmp_ipy/00.Data/AO/0-Pusan-2023-AO/K3A_20221116043234_42197_00003605_L1G/K3A_20221116043234_42197_00003605_L1G_RGB.png'],\n",
       " ['/mnt/hdd/eric/.tmp_ipy/00.Data/AO/0-Pusan-2023-AO/K3A_20231106050620_47570_00041714_L1G_PS/K3A_20231106050620_47570_00041714_L1G_PS_RGB.png'],\n",
       " ['/mnt/hdd/eric/.tmp_ipy/00.Data/AO/0-Pusan-2023-AO/C1_20231002015544_14047_00006119_L1G_PS/C1_20231002015544_14047_00006119_L1G_PS_RGB.png'],\n",
       " ['/mnt/hdd/eric/.tmp_ipy/00.Data/AO/0-Pusan-2023-AO/K3_20230328042158_57944_09401262_L1G_PS/K3_20230328042158_57944_09401262_L1G_PS_RGB.png'],\n",
       " ['/mnt/hdd/eric/.tmp_ipy/00.Data/AO/0-Pusan-2023-AO/C1_20230515015009_11919_00051985_L1G_PS/C1_20230515015009_11919_00051985_L1G_PS_RGB.png'],\n",
       " ['/mnt/hdd/eric/.tmp_ipy/00.Data/AO/0-Pusan-2023-AO/K3_20230413044456_58178_09381259_L1G_PS/K3_20230413044456_58178_09381259_L1G_PS_RGB.png'],\n",
       " ['/mnt/hdd/eric/.tmp_ipy/00.Data/AO/0-Pusan-2023-AO/K3_20231028043354_61071_09341260_L1G_PS/K3_20231028043354_61071_09341260_L1G_PS_RGB.png'],\n",
       " ['/mnt/hdd/eric/.tmp_ipy/00.Data/AO/0-Pusan-2023-AO/K3A_20230523045050_45040_00039701_L1G_PS/K3A_20230523045050_45040_00039701_L1G_PS_RGB.png'],\n",
       " ['/mnt/hdd/eric/.tmp_ipy/00.Data/AO/0-Pusan-2023-AO/C1_20230116015105_10110_00006119_L1G_PS/C1_20230116015105_10110_00006119_L1G_PS_RGB.png'],\n",
       " ['/mnt/hdd/eric/.tmp_ipy/00.Data/AO/0-Pusan-2023-AO/K3_20230328042158_57944_09401263_L1G_PS/K3_20230328042158_57944_09401263_L1G_PS_RGB.png'],\n",
       " ['/mnt/hdd/eric/.tmp_ipy/00.Data/AO/0-Pusan-2023-AO/C1_20230430014955_11691_00052297_L1G_PS/C1_20230430014955_11691_00052297_L1G_PS_RGB.png'],\n",
       " ['/mnt/hdd/eric/.tmp_ipy/00.Data/AO/0-Pusan-2023-AO/K3_20231028043354_61071_09341261_L1G_PS/K3_20231028043354_61071_09341261_L1G_PS_RGB.png'],\n",
       " ['/mnt/hdd/eric/.tmp_ipy/00.Data/AO/0-Pusan-2023-AO/K3A_20231106050620_47570_00003640_L1G_PS/K3A_20231106050620_47570_00003640_L1G_PS_RGB.png'],\n",
       " ['/mnt/hdd/eric/.tmp_ipy/00.Data/AO/0-Pusan-2023-AO/C1_20231002015544_14047_00028701_L1G_PS/C1_20231002015544_14047_00028701_L1G_PS_RGB.png'],\n",
       " ['/mnt/hdd/eric/.tmp_ipy/00.Data/AO/0-Pusan-2023-AO/K3_20231028043354_61071_09341262_L1G_PS/K3_20231028043354_61071_09341262_L1G_PS_RGB.png'],\n",
       " ['/mnt/hdd/eric/.tmp_ipy/00.Data/AO/0-Pusan-2023-AO/C1_20230430014955_11691_00029208_L1G_PS/C1_20230430014955_11691_00029208_L1G_PS_RGB.png']]"
      ]
     },
     "execution_count": 9,
     "metadata": {},
     "output_type": "execute_result"
    }
   ],
   "source": [
    "tgt"
   ]
  },
  {
   "cell_type": "code",
   "execution_count": 12,
   "metadata": {},
   "outputs": [],
   "source": [
    "import cv2\n",
    "\n",
    "#sample_png = '/mnt/hdd/eric/.tmp_ipy/00.Data/ShipRS_dataset/ShipRSImageNet_V1/VOC_Format/JPEGImages/100001615.bmp'\n",
    "# whole_png = \"/mnt/hdd/eric/.tmp_ipy/00.Reproduction_Test/black_sky_02_dirty.png\"\n",
    "#C1_20220420015713_05989_00121564_L1G_RGB\n",
    "#C1_20221024015617_08833_00052297_L1G_RGB\n",
    "#C1_20221103014737_08985_00027843_L1G_RGB\n",
    "#C1_20221222015147_09730_00028974_L1G_RGB\n",
    "#C1_20221227015155_09806_00006119_L1G_RGB\n",
    "#whole_png = \"/mnt/hdd/eric/.tmp_ipy/00.Data/ISRT/C1_20221227015155_09806_00006119_L1G_RGB.png\"\n",
    "#whole_png = \"/mnt/hdd/eric/.tmp_ipy/00.Reproduction_Test/post_images/C1_20221227015155_09806_00006119_L1G_RGB_ver2.png\"\n",
    "#whole_png = \"/mnt/hdd/eric/.tmp_ipy/00.Data/NTO/0-Pusan-2023-NTO/K3_20231113045054_61305_09361262_L1G_PS/K3_20231113045054_61305_09361262_L1G_PS_RGB.png\"\n",
    "pngs_ = [  \"/mnt/hdd/eric/.tmp_ipy/00.Data/NTO/0-Pusan-2023-NTO/K3_20231115042854_61334_09361262_L1G_PS/K3_20231115042854_61334_09361262_L1G_PS_RGB.png\"\n",
    "          \"/mnt/hdd/eric/.tmp_ipy/00.Data/NTO/0-Pusan-2023-NTO/K3A_20231107045100_47585_00043462_L1G_PS/K3A_20231107045100_47585_00043462_L1G_PS_RGB.png\",\n",
    "        \"/mnt/hdd/eric/.tmp_ipy/00.Data/NTO/0-Pusan-2023-NTO/K3A_20231113045236_47676_00049406_L1G_PS/K3A_20231113045236_47676_00049406_L1G_PS_RGB.png\"]\n",
    "\n",
    "whole_png = pngs_[1]\n",
    "a = cv2.imread(whole_png)"
   ]
  },
  {
   "cell_type": "code",
   "execution_count": 11,
   "metadata": {},
   "outputs": [
    {
     "name": "stdout",
     "output_type": "stream",
     "text": [
      "inference_detector_by_patches GPU ! :  cuda:0\n"
     ]
    },
    {
     "name": "stderr",
     "output_type": "stream",
     "text": [
      "/mnt/hdd/eric/.conda/envs/8.tmp/lib/python3.8/site-packages/mmdet/models/dense_heads/anchor_head.py:123: UserWarning: DeprecationWarning: anchor_generator is deprecated, please use \"prior_generator\" instead\n",
      "  warnings.warn('DeprecationWarning: anchor_generator is deprecated, '\n"
     ]
    }
   ],
   "source": [
    "# for tg in tgt:\n",
    "#     whole_png = tg[0]\n",
    "import cv2\n",
    "\n",
    "whole_png = \"/mnt/hdd/eric/.tmp_ipy/00.Data/AO/0-Pusan-2023-AO/C1_20221227015155_09806_00006119_L1G/0-Pusan-2023-AO_1_C1_20221227015155_09806_00006119_L1G.png\"\n",
    "#print(whole_png)\n",
    "\n",
    "from easydict import EasyDict\n",
    "\n",
    "img = cv2.imread(whole_png)\n",
    "\n",
    "args = EasyDict()\n",
    "args.img = img\n",
    "args.patch_sizes = [1024,800,2048]\n",
    "args.patch_steps = [824,672,1920]\n",
    "args.img_ratios = [1.0,1.5,2.0]\n",
    "\n",
    "# default\n",
    "#args.patch_sizes = [1024,800,2048]\n",
    "#args.patch_steps = [824,672,1920]\n",
    "#args.img_ratios = [1.0,1.5,2.0]\n",
    "\n",
    "args.merge_iou_thr = 0.1\n",
    "args.device = 'cuda:0'\n",
    "args.score_thr = 0.5\n",
    "args.palette = 'dota'\n",
    "\n",
    "\n",
    "result = inference_detector_by_patches(model, args.img, args.patch_sizes,\n",
    "                                        args.patch_steps, args.img_ratios,\n",
    "                                        args.merge_iou_thr)\n",
    "# show the results\n",
    "show_result_pyplot(\n",
    "    model,\n",
    "    args.img,\n",
    "    result,\n",
    "    palette=args.palette,\n",
    "    score_thr=args.score_thr,\n",
    "    out_file=os.path.join(\"/mnt/hdd/eric/.tmp_ipy/00.Data/tmp_/one_class.png\" ) )\n",
    "\n",
    "\n",
    "#     out_file=os.path.join(\"/mnt/hdd/eric/.tmp_ipy/00.Reproduction_Test/post_images\",\"result\",[i for i in whole_png.split(\"/\")][-1]) )"
   ]
  },
  {
   "cell_type": "code",
   "execution_count": 30,
   "metadata": {},
   "outputs": [],
   "source": [
    "# Threshold 이상 선박\n",
    "\n",
    "bboxes_ = [] \n",
    "cnt = 0\n",
    "for r in result[0]:\n",
    "    if r[-1] > 0.8:\n",
    "        cnt+=1\n",
    "        bboxes_.append(r)\n",
    "#result[0][-1][-1]"
   ]
  },
  {
   "cell_type": "code",
   "execution_count": 32,
   "metadata": {},
   "outputs": [],
   "source": [
    "# box numpy 로 저장 \n",
    "import numpy as np\n",
    "\n",
    "to_path = \"/mnt/hdd/eric/.tmp_ipy/12.AIS_/2.Kari_Data\"\n",
    "n_name = [i for i in whole_png.split(\"/\")][-1]\n",
    "\n",
    "np.save(os.path.join(to_path,n_name),bboxes_)"
   ]
  },
  {
   "cell_type": "code",
   "execution_count": 31,
   "metadata": {},
   "outputs": [
    {
     "data": {
      "text/plain": [
       "array([1.7207e+03, 2.8607e+03, 9.6675e+01, 1.7972e+01, 1.1884e+00, 9.9361e-01], dtype=float32)"
      ]
     },
     "execution_count": 31,
     "metadata": {},
     "output_type": "execute_result"
    }
   ],
   "source": [
    "bboxes_[0]"
   ]
  },
  {
   "cell_type": "code",
   "execution_count": 21,
   "metadata": {},
   "outputs": [
    {
     "data": {
      "text/plain": [
       "array([2.9710e+03, 5.9490e+03, 8.2574e+01, 1.8548e+01, 1.5191e+00, 9.6611e-01], dtype=float32)"
      ]
     },
     "execution_count": 21,
     "metadata": {},
     "output_type": "execute_result"
    }
   ],
   "source": [
    "bboxes_[1]"
   ]
  },
  {
   "cell_type": "code",
   "execution_count": 22,
   "metadata": {},
   "outputs": [],
   "source": [
    "# import os \n",
    "\n",
    "# # competition valid images \n",
    "# # competition dataset 의 위치 \n",
    "# valid_image_path = \"/mnt/hdd/eric/.tmp_ipy/00.Data/\" + \"oiltank_dataset/roas/test/images\"\n",
    "\n",
    "# test_images = [os.path.join(valid_image_path,i) for i in os.listdir(valid_image_path) if \".png\" in i ]\n",
    "\n",
    "# outputs= []\n",
    "# cnt=0\n",
    "# total_cnt = len(test_images)\n",
    "# for img_name in test_images:\n",
    "#     img = cv2.imread(f'{img_name}')\n",
    "#     result =  inference_detector_by_patches(model,img, args.patch_sizes,\n",
    "#                                         args.patch_steps, args.img_ratios,\n",
    "#                                         args.merge_iou_thr)\n",
    "#     outputs.append(result)\n",
    "#     cnt+=1\n",
    "#     print(cnt/total_cnt)"
   ]
  },
  {
   "cell_type": "code",
   "execution_count": 23,
   "metadata": {},
   "outputs": [],
   "source": [
    "# outputs.__len__() # should be 68"
   ]
  },
  {
   "cell_type": "code",
   "execution_count": 24,
   "metadata": {},
   "outputs": [],
   "source": [
    "# outputs[0][0][0]"
   ]
  },
  {
   "cell_type": "code",
   "execution_count": 25,
   "metadata": {},
   "outputs": [],
   "source": [
    "# import numpy as np\n",
    "# def center_to_corner(center_boxes):\n",
    "#     center_boxes = torch.Tensor(center_boxes)\n",
    "#     \"\"\"\n",
    "#     input\n",
    "#     center_boxes : center coordinates boxes : [N, 4] (cx, cy, w, h)\n",
    "#     output\n",
    "#     corner_boxes : corner coordinates boxes : [N, 4] (x1, y1, x2, y2)\n",
    "#     \"\"\"\n",
    "#     x1y1 = center_boxes[..., :2] - (center_boxes[..., 2:4])/2\n",
    "#     x2y2 = center_boxes[..., :2] + (center_boxes[..., 2:4])/2\n",
    "#     corner_boxes = torch.cat([x1y1, x2y2], dim=-1)\n",
    "#     corner_boxes = np.array(corner_boxes)\n",
    "#     return corner_boxes"
   ]
  },
  {
   "cell_type": "code",
   "execution_count": 26,
   "metadata": {},
   "outputs": [],
   "source": [
    "# def conver4to8(box1 ): # this is corner coordinates ...\n",
    "#     #xmin,ymin,w,h = box[0],box[1], box[2],box[3],\n",
    "#     # 아,, faster RCNN은 corner output 이었는데,, \n",
    "#     # ,,,, ROI Transformer 는 또,, center format 이네 ㅋ\n",
    "#     # 1 \n",
    "#     x1 = box1[0]\n",
    "#     y1 = box1[1]\n",
    "\n",
    "#     x2 = box1[2]\n",
    "#     y2 = box1[1]\n",
    "\n",
    "#     x3 = box1[2]\n",
    "#     y3 = box1[3]\n",
    "\n",
    "#     x4 = box1[0]\n",
    "#     y4 = box1[3]\n",
    "#     return [x1,y1,x2,y2,x3,y3,x4,y4]\n",
    "\n",
    "\n",
    "# Sub_ = {\n",
    "#     'File':[],'Confidence':[],'X1':[],'Y1':[],'X2':[],'Y2':[],'X3':[],'Y3':[],'X4':[],'Y4':[],\n",
    "#     }\n",
    "\n",
    "# import os \n",
    "# f_names = [i[0:8] for i in os.listdir(valid_image_path)]\n",
    "\n",
    "# for i,img in enumerate(outputs):\n",
    "#     boxes = img[0]\n",
    "#     filename = f_names[i]\n",
    "#     for box in boxes:\n",
    "#         #xmin,ymin,w,h,confi = box[0],box[1],box[2],box[3],box[4]\n",
    "#         confi = box[5]\n",
    "#         if confi >= 0.1:\n",
    "#             corner_box = center_to_corner(box[0:4])\n",
    "#             coords8 = conver4to8(corner_box)\n",
    "#             confi = confi\n",
    "            \n",
    "#             Sub_['File'].append(filename)\n",
    "#             Sub_['Confidence'].append(confi)\n",
    "#             Sub_['X1'].append(coords8[0]) # 나중에 int \n",
    "#             Sub_['Y1'].append(coords8[1])\n",
    "#             Sub_['X2'].append(coords8[2])\n",
    "#             Sub_['Y2'].append(coords8[3])\n",
    "#             Sub_['X3'].append(coords8[4])\n",
    "#             Sub_['Y3'].append(coords8[5])\n",
    "#             Sub_['X4'].append(coords8[6])\n",
    "#             Sub_['Y4'].append(coords8[7])      \n",
    "\n",
    "                "
   ]
  },
  {
   "cell_type": "code",
   "execution_count": 27,
   "metadata": {},
   "outputs": [],
   "source": [
    "# import pandas as pd\n",
    "# Sub_ = pd.DataFrame(Sub_)"
   ]
  },
  {
   "cell_type": "code",
   "execution_count": 28,
   "metadata": {},
   "outputs": [],
   "source": [
    "# Sub_"
   ]
  },
  {
   "cell_type": "code",
   "execution_count": 29,
   "metadata": {},
   "outputs": [],
   "source": [
    "# # 최종 submission 파일 저장위치 \n",
    "\n",
    "# Sub_.to_csv(\"/mnt/hdd/eric/.tmp_ipy/00.Checkpoint/_재검증_final_submission_epoch_8.csv\",index=False)"
   ]
  }
 ],
 "metadata": {
  "kernelspec": {
   "display_name": "8.tmp",
   "language": "python",
   "name": "python3"
  },
  "language_info": {
   "codemirror_mode": {
    "name": "ipython",
    "version": 3
   },
   "file_extension": ".py",
   "mimetype": "text/x-python",
   "name": "python",
   "nbconvert_exporter": "python",
   "pygments_lexer": "ipython3",
   "version": "3.8.17"
  }
 },
 "nbformat": 4,
 "nbformat_minor": 2
}
