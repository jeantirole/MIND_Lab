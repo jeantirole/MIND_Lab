{
 "cells": [
  {
   "cell_type": "code",
   "execution_count": 4,
   "metadata": {},
   "outputs": [],
   "source": [
    "import os\n",
    "from matplotlib import pyplot as plt\n",
    "import rasterio\n",
    "import numpy as np\n",
    "from skimage import exposure\n",
    "\n",
    "def contrast_stretch(band, band_small, band_large):\n",
    "    band_small, band_large = np.percentile(band, (percent_small, percent_large))\n",
    "    scaled = exposure.rescale_intensity(band, in_range=(band_small, band_large), out_range=np.float32)\n",
    "    return scaled\n",
    "\n",
    "def normalize_img(img):\n",
    "    return (img-np.min(img))/(np.max(img)-np.min(img))\n",
    "\n",
    "percent_small = 0.2 ; percent_large = 100 - percent_small ; \n",
    "\n",
    "path = \"/mnt/hdd/eric/.tmp_ipy/00.Data/K3_20221211/_262\"\n",
    "dir_list = os.listdir(path)\n",
    "\n",
    "red   = os.path.join( path, [i for i in os.listdir(path) if i.split(\".\")[0][-1]==\"R\" ][0] )\n",
    "green = os.path.join( path, [i for i in os.listdir(path) if i.split(\".\")[0][-1]==\"G\" ][0] )\n",
    "blue  = os.path.join( path, [i for i in os.listdir(path) if i.split(\".\")[0][-1]==\"B\" ][0] )\n",
    "\n",
    "dat_r = rasterio.open(red, dtype = 'float64')\n",
    "dat_g = rasterio.open(green, dtype = 'float64')\n",
    "dat_b = rasterio.open(blue, dtype = 'float64')"
   ]
  },
  {
   "cell_type": "code",
   "execution_count": 10,
   "metadata": {},
   "outputs": [
    {
     "name": "stdout",
     "output_type": "stream",
     "text": [
      "r shape :  (26880, 32912)\n"
     ]
    }
   ],
   "source": [
    "dat_r.read().shape\n",
    "\n",
    "dat_r_reshape = np.reshape(dat_r.read(), dat_r.shape)\n",
    "print(\"r shape : \",dat_r.shape)"
   ]
  },
  {
   "cell_type": "code",
   "execution_count": 11,
   "metadata": {},
   "outputs": [
    {
     "name": "stdout",
     "output_type": "stream",
     "text": [
      "g shape :  (26880, 32912)\n"
     ]
    }
   ],
   "source": [
    "dat_g.shape\n",
    "dat_g_reshape = np.reshape(dat_g.read(), dat_g.shape)\n",
    "print(\"g shape : \",dat_g.shape)"
   ]
  },
  {
   "cell_type": "code",
   "execution_count": 12,
   "metadata": {},
   "outputs": [
    {
     "ename": "ValueError",
     "evalue": "cannot reshape array of size 2654023680 into shape (26880,32912)",
     "output_type": "error",
     "traceback": [
      "\u001b[0;31m---------------------------------------------------------------------------\u001b[0m",
      "\u001b[0;31mValueError\u001b[0m                                Traceback (most recent call last)",
      "Cell \u001b[0;32mIn[12], line 2\u001b[0m\n\u001b[1;32m      1\u001b[0m dat_b\u001b[38;5;241m.\u001b[39mshape\n\u001b[0;32m----> 2\u001b[0m dat_b_reshape \u001b[38;5;241m=\u001b[39m \u001b[43mnp\u001b[49m\u001b[38;5;241;43m.\u001b[39;49m\u001b[43mreshape\u001b[49m\u001b[43m(\u001b[49m\u001b[43mdat_b\u001b[49m\u001b[38;5;241;43m.\u001b[39;49m\u001b[43mread\u001b[49m\u001b[43m(\u001b[49m\u001b[43m)\u001b[49m\u001b[43m,\u001b[49m\u001b[43m \u001b[49m\u001b[43mdat_b\u001b[49m\u001b[38;5;241;43m.\u001b[39;49m\u001b[43mshape\u001b[49m\u001b[43m)\u001b[49m\n\u001b[1;32m      3\u001b[0m \u001b[38;5;28mprint\u001b[39m(\u001b[38;5;124m\"\u001b[39m\u001b[38;5;124mb shape : \u001b[39m\u001b[38;5;124m\"\u001b[39m,dat_b\u001b[38;5;241m.\u001b[39mshape)\n",
      "File \u001b[0;32m<__array_function__ internals>:180\u001b[0m, in \u001b[0;36mreshape\u001b[0;34m(*args, **kwargs)\u001b[0m\n",
      "File \u001b[0;32m~/.conda/envs/8.tmp/lib/python3.8/site-packages/numpy/core/fromnumeric.py:298\u001b[0m, in \u001b[0;36mreshape\u001b[0;34m(a, newshape, order)\u001b[0m\n\u001b[1;32m    198\u001b[0m \u001b[38;5;129m@array_function_dispatch\u001b[39m(_reshape_dispatcher)\n\u001b[1;32m    199\u001b[0m \u001b[38;5;28;01mdef\u001b[39;00m \u001b[38;5;21mreshape\u001b[39m(a, newshape, order\u001b[38;5;241m=\u001b[39m\u001b[38;5;124m'\u001b[39m\u001b[38;5;124mC\u001b[39m\u001b[38;5;124m'\u001b[39m):\n\u001b[1;32m    200\u001b[0m \u001b[38;5;250m    \u001b[39m\u001b[38;5;124;03m\"\"\"\u001b[39;00m\n\u001b[1;32m    201\u001b[0m \u001b[38;5;124;03m    Gives a new shape to an array without changing its data.\u001b[39;00m\n\u001b[1;32m    202\u001b[0m \n\u001b[0;32m   (...)\u001b[0m\n\u001b[1;32m    296\u001b[0m \u001b[38;5;124;03m           [5, 6]])\u001b[39;00m\n\u001b[1;32m    297\u001b[0m \u001b[38;5;124;03m    \"\"\"\u001b[39;00m\n\u001b[0;32m--> 298\u001b[0m     \u001b[38;5;28;01mreturn\u001b[39;00m \u001b[43m_wrapfunc\u001b[49m\u001b[43m(\u001b[49m\u001b[43ma\u001b[49m\u001b[43m,\u001b[49m\u001b[43m \u001b[49m\u001b[38;5;124;43m'\u001b[39;49m\u001b[38;5;124;43mreshape\u001b[39;49m\u001b[38;5;124;43m'\u001b[39;49m\u001b[43m,\u001b[49m\u001b[43m \u001b[49m\u001b[43mnewshape\u001b[49m\u001b[43m,\u001b[49m\u001b[43m \u001b[49m\u001b[43morder\u001b[49m\u001b[38;5;241;43m=\u001b[39;49m\u001b[43morder\u001b[49m\u001b[43m)\u001b[49m\n",
      "File \u001b[0;32m~/.conda/envs/8.tmp/lib/python3.8/site-packages/numpy/core/fromnumeric.py:57\u001b[0m, in \u001b[0;36m_wrapfunc\u001b[0;34m(obj, method, *args, **kwds)\u001b[0m\n\u001b[1;32m     54\u001b[0m     \u001b[38;5;28;01mreturn\u001b[39;00m _wrapit(obj, method, \u001b[38;5;241m*\u001b[39margs, \u001b[38;5;241m*\u001b[39m\u001b[38;5;241m*\u001b[39mkwds)\n\u001b[1;32m     56\u001b[0m \u001b[38;5;28;01mtry\u001b[39;00m:\n\u001b[0;32m---> 57\u001b[0m     \u001b[38;5;28;01mreturn\u001b[39;00m \u001b[43mbound\u001b[49m\u001b[43m(\u001b[49m\u001b[38;5;241;43m*\u001b[39;49m\u001b[43margs\u001b[49m\u001b[43m,\u001b[49m\u001b[43m \u001b[49m\u001b[38;5;241;43m*\u001b[39;49m\u001b[38;5;241;43m*\u001b[39;49m\u001b[43mkwds\u001b[49m\u001b[43m)\u001b[49m\n\u001b[1;32m     58\u001b[0m \u001b[38;5;28;01mexcept\u001b[39;00m \u001b[38;5;167;01mTypeError\u001b[39;00m:\n\u001b[1;32m     59\u001b[0m     \u001b[38;5;66;03m# A TypeError occurs if the object does have such a method in its\u001b[39;00m\n\u001b[1;32m     60\u001b[0m     \u001b[38;5;66;03m# class, but its signature is not identical to that of NumPy's. This\u001b[39;00m\n\u001b[0;32m   (...)\u001b[0m\n\u001b[1;32m     64\u001b[0m     \u001b[38;5;66;03m# Call _wrapit from within the except clause to ensure a potential\u001b[39;00m\n\u001b[1;32m     65\u001b[0m     \u001b[38;5;66;03m# exception has a traceback chain.\u001b[39;00m\n\u001b[1;32m     66\u001b[0m     \u001b[38;5;28;01mreturn\u001b[39;00m _wrapit(obj, method, \u001b[38;5;241m*\u001b[39margs, \u001b[38;5;241m*\u001b[39m\u001b[38;5;241m*\u001b[39mkwds)\n",
      "\u001b[0;31mValueError\u001b[0m: cannot reshape array of size 2654023680 into shape (26880,32912)"
     ]
    }
   ],
   "source": [
    "dat_b.shape\n",
    "dat_b_reshape = np.reshape(dat_b.read(), dat_b.shape)\n",
    "print(\"b shape : \",dat_b.shape)"
   ]
  },
  {
   "cell_type": "code",
   "execution_count": null,
   "metadata": {},
   "outputs": [],
   "source": [
    "dat_r_reshape = np.reshape(dat_r.read(), dat_r.shape)\n",
    "print(\"r shape : \",dat_r.shape)\n",
    "dat_g_reshape = np.reshape(dat_g.read(), dat_g.shape)\n",
    "print(\"g shape : \",dat_g.shape)\n",
    "dat_b_reshape = np.reshape(dat_b.read(), dat_b.shape)\n",
    "print(\"b shape : \",dat_b.shape)\n"
   ]
  },
  {
   "cell_type": "code",
   "execution_count": null,
   "metadata": {},
   "outputs": [],
   "source": [
    "\n",
    "contrast_flag = True\n",
    "if contrast_flag ==True:\n",
    "    r_con = contrast_stretch(dat_r_reshape, 1, 99)\n",
    "    g_con = contrast_stretch(dat_g_reshape, 1, 99)\n",
    "    b_con = contrast_stretch(dat_b_reshape, percent_small, percent_large)\n",
    "    \n",
    "    print(r_con.shape,g_con.shape,b_con.shape)\n",
    "\n",
    "    img_temp = np.stack((r_con, g_con, b_con), axis=0)\n",
    "\n",
    "else:\n",
    "    img_temp = np.stack((dat_r_reshape,dat_g_reshape,dat_b_reshape), aixs=0)\n",
    "\n",
    "RGB = normalize_img(img_temp) # save for tiff\n",
    "\n",
    "# plt.imsave(os.path.join(path,\"_RGB_v1.png\"),RGB )"
   ]
  },
  {
   "cell_type": "code",
   "execution_count": 36,
   "metadata": {},
   "outputs": [
    {
     "data": {
      "text/plain": [
       "(3, 26844, 32724)"
      ]
     },
     "execution_count": 36,
     "metadata": {},
     "output_type": "execute_result"
    }
   ],
   "source": [
    "RGB.shape"
   ]
  },
  {
   "cell_type": "code",
   "execution_count": 37,
   "metadata": {},
   "outputs": [],
   "source": [
    "# Make tiff file\n",
    "outpath = os.path.join( path, \"_RGB.tif\")\n",
    "\n",
    "# Open multiband raster\n",
    "raster = rasterio.open(red)\n",
    "\n",
    "# Write to TIFF\n",
    "kwargs = raster.meta\n",
    "kwargs.update(\n",
    "    dtype=rasterio.float32,\n",
    "    count=3,\n",
    "    compress='lzw')\n",
    "\n",
    "with rasterio.open(outpath, 'w', **kwargs) as dst:\n",
    "    dst.write(RGB.astype(rasterio.float32))\n",
    "raster.close()\n",
    "dst.close()\n"
   ]
  },
  {
   "cell_type": "code",
   "execution_count": null,
   "metadata": {},
   "outputs": [],
   "source": []
  }
 ],
 "metadata": {
  "kernelspec": {
   "display_name": "8.tmp",
   "language": "python",
   "name": "python3"
  },
  "language_info": {
   "codemirror_mode": {
    "name": "ipython",
    "version": 3
   },
   "file_extension": ".py",
   "mimetype": "text/x-python",
   "name": "python",
   "nbconvert_exporter": "python",
   "pygments_lexer": "ipython3",
   "version": "3.8.17"
  }
 },
 "nbformat": 4,
 "nbformat_minor": 2
}
