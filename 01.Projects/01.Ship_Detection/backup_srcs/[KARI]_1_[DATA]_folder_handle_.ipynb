{
 "cells": [
  {
   "cell_type": "markdown",
   "metadata": {},
   "source": [
    "# Multi Scale Merge"
   ]
  },
  {
   "cell_type": "markdown",
   "metadata": {},
   "source": [
    "- 앞서서 스플릿된 파일들을 합쳐주는 코드  \n",
    "- image 와 json 각각에 대해서 실행 "
   ]
  },
  {
   "cell_type": "markdown",
   "metadata": {},
   "source": [
    "## images"
   ]
  },
  {
   "cell_type": "code",
   "execution_count": 3,
   "metadata": {},
   "outputs": [],
   "source": [
    "from glob import glob\n",
    "import os"
   ]
  },
  {
   "cell_type": "code",
   "execution_count": 4,
   "metadata": {},
   "outputs": [
    {
     "name": "stdout",
     "output_type": "stream",
     "text": [
      "70\n",
      "280\n",
      "630\n"
     ]
    }
   ],
   "source": [
    "data_root =\"/mnt/hdd/eric/.tmp_ipy/00.Data\"\n",
    "\n",
    "src1 = os.path.join(data_root,\"oiltank_dataset/roas/roas_split_1024_gap_128_x1/train1024_1x\")\n",
    "src2 = os.path.join(data_root, \"oiltank_dataset/roas/roas_split_1024_gap_128_x1.5/train1024_1.5x\")\n",
    "src3 = os.path.join(data_root,\"oiltank_dataset/roas/roas_split_1024_gap_128_x2/train1024_2x\")\n",
    "\n",
    "srcs = [src1,src2,src3]\n",
    "\n",
    "images = glob(src2+\"/images/*.png\")\n",
    "\n",
    "img_bl = []\n",
    "for i in srcs:\n",
    "    images = glob(i+\"/images/*.png\")\n",
    "    print(len(images))\n",
    "    for q in images:\n",
    "        img_bl.append(q)\n",
    "\n",
    "# 70,280,630 장이 각각 나와야 합니다. \n"
   ]
  },
  {
   "cell_type": "code",
   "execution_count": 5,
   "metadata": {},
   "outputs": [],
   "source": [
    "# 분할된 이미지들을 한 폴더로 모아줌 \n",
    "\n",
    "import os \n",
    "\n",
    "os.makedirs(os.path.join(data_root,\"oiltank_dataset/roas/roas_split_1024_gap_128_merge_1_1.5_2/images\"))\n",
    "\n",
    "dst_path = []\n",
    "for s in img_bl:\n",
    "    z = os.path.join(data_root,\"oiltank_dataset/roas/roas_split_1024_gap_128_merge_1_1.5_2/images\", s.split(\"/\")[-1])\n",
    "    dst_path.append(z)"
   ]
  },
  {
   "cell_type": "code",
   "execution_count": 6,
   "metadata": {},
   "outputs": [
    {
     "data": {
      "text/plain": [
       "True"
      ]
     },
     "execution_count": 6,
     "metadata": {},
     "output_type": "execute_result"
    }
   ],
   "source": [
    "os.path.exists(img_bl[0])"
   ]
  },
  {
   "cell_type": "code",
   "execution_count": 7,
   "metadata": {},
   "outputs": [
    {
     "data": {
      "text/plain": [
       "True"
      ]
     },
     "execution_count": 7,
     "metadata": {},
     "output_type": "execute_result"
    }
   ],
   "source": [
    "dst_path.__len__()==980"
   ]
  },
  {
   "cell_type": "code",
   "execution_count": 8,
   "metadata": {},
   "outputs": [
    {
     "data": {
      "text/plain": [
       "True"
      ]
     },
     "execution_count": 8,
     "metadata": {},
     "output_type": "execute_result"
    }
   ],
   "source": [
    "img_bl.__len__()==980"
   ]
  },
  {
   "cell_type": "code",
   "execution_count": 9,
   "metadata": {},
   "outputs": [],
   "source": [
    "import os \n",
    "import pandas as pd\n",
    "import shutil\n",
    "\n",
    "for e,q in zip(img_bl,dst_path):\n",
    "    shutil.copyfile(e, q)"
   ]
  },
  {
   "cell_type": "code",
   "execution_count": 10,
   "metadata": {},
   "outputs": [
    {
     "data": {
      "text/plain": [
       "True"
      ]
     },
     "execution_count": 10,
     "metadata": {},
     "output_type": "execute_result"
    }
   ],
   "source": [
    "len(os.listdir(\"/mnt/hdd/eric/.tmp_ipy/00.Data/oiltank_dataset/roas/roas_split_1024_gap_128_merge_1_1.5_2/images\")) ==980"
   ]
  },
  {
   "cell_type": "markdown",
   "metadata": {},
   "source": [
    "## json"
   ]
  },
  {
   "cell_type": "code",
   "execution_count": 11,
   "metadata": {},
   "outputs": [
    {
     "name": "stdout",
     "output_type": "stream",
     "text": [
      "70\n",
      "280\n",
      "630\n"
     ]
    }
   ],
   "source": [
    "data_root =\"/mnt/hdd/eric/.tmp_ipy/00.Data\"\n",
    "\n",
    "src1 = os.path.join(data_root,\"oiltank_dataset/roas/roas_split_1024_gap_128_x1/train1024_1x\")\n",
    "src2 = os.path.join(data_root, \"oiltank_dataset/roas/roas_split_1024_gap_128_x1.5/train1024_1.5x\")\n",
    "src3 = os.path.join(data_root,\"oiltank_dataset/roas/roas_split_1024_gap_128_x2/train1024_2x\")\n",
    "\n",
    "srcs = [src1,src2,src3]\n",
    "\n",
    "images = glob(src2+\"/json/*.json\")\n",
    "\n",
    "img_bl = []\n",
    "for i in srcs:\n",
    "    images = glob(i+\"/json/*.json\")\n",
    "    print(len(images))\n",
    "    for q in images:\n",
    "        img_bl.append(q)"
   ]
  },
  {
   "cell_type": "code",
   "execution_count": 12,
   "metadata": {},
   "outputs": [
    {
     "data": {
      "text/plain": [
       "'OBJ04560_PS3_K3A_NIA0300__1__0___0.json'"
      ]
     },
     "execution_count": 12,
     "metadata": {},
     "output_type": "execute_result"
    }
   ],
   "source": [
    "img_bl[0].split(\"/\")[-1]"
   ]
  },
  {
   "cell_type": "code",
   "execution_count": 13,
   "metadata": {},
   "outputs": [],
   "source": [
    "# 분할된 이미지들을 한 폴더로 모아줌 \n",
    "\n",
    "import os \n",
    "\n",
    "os.makedirs(os.path.join(data_root,\"oiltank_dataset/roas/roas_split_1024_gap_128_merge_1_1.5_2/json\"))\n",
    "\n",
    "dst_path = []\n",
    "for s in img_bl:\n",
    "    z = os.path.join(data_root,\"oiltank_dataset/roas/roas_split_1024_gap_128_merge_1_1.5_2/json\", s.split(\"/\")[-1])\n",
    "    dst_path.append(z)"
   ]
  },
  {
   "cell_type": "code",
   "execution_count": 14,
   "metadata": {},
   "outputs": [
    {
     "data": {
      "text/plain": [
       "980"
      ]
     },
     "execution_count": 14,
     "metadata": {},
     "output_type": "execute_result"
    }
   ],
   "source": [
    "dst_path.__len__()"
   ]
  },
  {
   "cell_type": "code",
   "execution_count": 15,
   "metadata": {},
   "outputs": [],
   "source": [
    "import os \n",
    "import pandas as pd\n",
    "import shutil\n",
    "for e,q in zip(img_bl,dst_path):\n",
    "    shutil.copyfile(e, q)\n",
    "    "
   ]
  },
  {
   "cell_type": "code",
   "execution_count": 16,
   "metadata": {},
   "outputs": [
    {
     "data": {
      "text/plain": [
       "True"
      ]
     },
     "execution_count": 16,
     "metadata": {},
     "output_type": "execute_result"
    }
   ],
   "source": [
    "len(os.listdir(\"/mnt/hdd/eric/.tmp_ipy/00.Data/oiltank_dataset/roas/roas_split_1024_gap_128_merge_1_1.5_2/json\")) == 980"
   ]
  }
 ],
 "metadata": {
  "kernelspec": {
   "display_name": "1.farm",
   "language": "python",
   "name": "python3"
  },
  "language_info": {
   "codemirror_mode": {
    "name": "ipython",
    "version": 3
   },
   "file_extension": ".py",
   "mimetype": "text/x-python",
   "name": "python",
   "nbconvert_exporter": "python",
   "pygments_lexer": "ipython3",
   "version": "3.8.17"
  },
  "orig_nbformat": 4
 },
 "nbformat": 4,
 "nbformat_minor": 2
}
